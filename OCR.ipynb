{
 "cells": [
  {
   "cell_type": "code",
   "execution_count": 1,
   "metadata": {},
   "outputs": [],
   "source": [
    "import os \n",
    "import cv2\n",
    "import numpy as np\n",
    "import tensorflow as tf\n",
    "from matplotlib import pyplot as plt"
   ]
  },
  {
   "cell_type": "code",
   "execution_count": 2,
   "metadata": {},
   "outputs": [],
   "source": [
    "# Avoiding OOM errors by setting GPU Memory Consumption Growth\n",
    "gpus = tf.config.experimental.list_physical_devices('GPU')\n",
    "for gpu in gpus:\n",
    "    tf.config.experimental.set_memory_growth(gpu,True)"
   ]
  },
  {
   "cell_type": "code",
   "execution_count": 4,
   "metadata": {},
   "outputs": [
    {
     "data": {
      "image/png": "[encoded data removed]",
      "text/plain": [
       "<Figure size 432x288 with 1 Axes>"
      ]
     },
     "metadata": {
      "needs_background": "light"
     },
     "output_type": "display_data"
    }
   ],
   "source": [
    "# Loading Data\n",
    "data_dir = 'Data'\n",
    "img = cv2.imread(os.path.join(data_dir,'1','img002-00001.png'))\n",
    "plt.imshow(cv2.cvtColor(img,cv2.COLOR_BGR2GRAY))\n",
    "plt.show()"
   ]
  },
  {
   "cell_type": "code",
   "execution_count": 6,
   "metadata": {},
   "outputs": [
    {
     "name": "stdout",
     "output_type": "stream",
     "text": [
      "Found 10160 files belonging to 10 classes.\n"
     ]
    }
   ],
   "source": [
    "# Creating Dataset\n",
    "data = tf.keras.utils.image_dataset_from_directory(data_dir,color_mode='grayscale',image_size=(28,28),label_mode='categorical')"
   ]
  },
  {
   "cell_type": "code",
   "execution_count": 7,
   "metadata": {},
   "outputs": [
    {
     "data": {
      "text/plain": [
       "(28, 28, 1)"
      ]
     },
     "execution_count": 7,
     "metadata": {},
     "output_type": "execute_result"
    }
   ],
   "source": [
    "data_iterator = data.as_numpy_iterator()\n",
    "batch = data_iterator.next()\n",
    "batch[0][0].shape"
   ]
  },
  {
   "cell_type": "code",
   "execution_count": 8,
   "metadata": {},
   "outputs": [
    {
     "data": {
      "text/plain": [
       "array([[1., 0., 0., 0., 0., 0., 0., 0., 0., 0.],\n",
       "       [0., 0., 0., 0., 0., 0., 0., 1., 0., 0.],\n",
       "       [0., 0., 0., 0., 0., 0., 1., 0., 0., 0.],\n",
       "       [0., 0., 0., 0., 0., 0., 0., 0., 1., 0.],\n",
       "       [0., 0., 1., 0., 0., 0., 0., 0., 0., 0.],\n",
       "       [0., 0., 0., 0., 1., 0., 0., 0., 0., 0.],\n",
       "       [0., 0., 0., 0., 0., 1., 0., 0., 0., 0.],\n",
       "       [0., 1., 0., 0., 0., 0., 0., 0., 0., 0.],\n",
       "       [0., 1., 0., 0., 0., 0., 0., 0., 0., 0.],\n",
       "       [0., 0., 0., 0., 0., 1., 0., 0., 0., 0.],\n",
       "       [0., 0., 0., 0., 0., 1., 0., 0., 0., 0.],\n",
       "       [0., 0., 0., 0., 0., 0., 0., 0., 1., 0.],\n",
       "       [0., 0., 0., 0., 0., 0., 0., 0., 1., 0.],\n",
       "       [1., 0., 0., 0., 0., 0., 0., 0., 0., 0.],\n",
       "       [0., 0., 0., 0., 1., 0., 0., 0., 0., 0.],\n",
       "       [0., 0., 0., 0., 0., 0., 0., 0., 0., 1.],\n",
       "       [0., 0., 0., 0., 1., 0., 0., 0., 0., 0.],\n",
       "       [0., 0., 0., 0., 1., 0., 0., 0., 0., 0.],\n",
       "       [0., 0., 0., 0., 0., 1., 0., 0., 0., 0.],\n",
       "       [1., 0., 0., 0., 0., 0., 0., 0., 0., 0.],\n",
       "       [1., 0., 0., 0., 0., 0., 0., 0., 0., 0.],\n",
       "       [0., 0., 0., 1., 0., 0., 0., 0., 0., 0.],\n",
       "       [0., 0., 0., 0., 0., 0., 0., 1., 0., 0.],\n",
       "       [0., 0., 1., 0., 0., 0., 0., 0., 0., 0.],\n",
       "       [0., 0., 0., 0., 1., 0., 0., 0., 0., 0.],\n",
       "       [0., 0., 0., 0., 0., 0., 0., 0., 1., 0.],\n",
       "       [0., 1., 0., 0., 0., 0., 0., 0., 0., 0.],\n",
       "       [0., 0., 0., 0., 0., 0., 0., 1., 0., 0.],\n",
       "       [0., 0., 0., 1., 0., 0., 0., 0., 0., 0.],\n",
       "       [0., 0., 0., 0., 0., 1., 0., 0., 0., 0.],\n",
       "       [0., 0., 1., 0., 0., 0., 0., 0., 0., 0.],\n",
       "       [0., 0., 0., 0., 0., 1., 0., 0., 0., 0.]], dtype=float32)"
      ]
     },
     "execution_count": 8,
     "metadata": {},
     "output_type": "execute_result"
    }
   ],
   "source": [
    "batch[1]"
   ]
  },
  {
   "cell_type": "code",
   "execution_count": 10,
   "metadata": {},
   "outputs": [
    {
     "data": {
      "image/png": "[encoded data removed]",
      "text/plain": [
       "<Figure size 1440x1440 with 4 Axes>"
      ]
     },
     "metadata": {
      "needs_background": "light"
     },
     "output_type": "display_data"
    }
   ],
   "source": [
    "fig,ax = plt.subplots(ncols=4,figsize= (20,20))\n",
    "for idx,img in enumerate(batch[0][:4]):\n",
    "    ax[idx].imshow(img.astype(int))\n",
    "    ax[idx].title.set_text(batch[1][idx])"
   ]
  },
  {
   "cell_type": "code",
   "execution_count": 11,
   "metadata": {},
   "outputs": [],
   "source": [
    "# Normalizing data\n",
    "data = data.map(lambda x,y:(x/255,y))"
   ]
  },
  {
   "cell_type": "code",
   "execution_count": 19,
   "metadata": {},
   "outputs": [],
   "source": [
    "train_size = int(len(data)*0.7)\n",
    "val_size  =int(len(data)*0.2)+1\n",
    "test_size = int(len(data)*0.1)+1\n",
    "train = data.take(train_size)\n",
    "val = data.skip(train_size).take(val_size)\n"
   ]
  },
  {
   "cell_type": "code",
   "execution_count": 15,
   "metadata": {},
   "outputs": [],
   "source": [
    "from keras.models import Sequential\n",
    "from keras.layers import Conv2D, MaxPooling2D, Dense, Flatten,Dropout"
   ]
  },
  {
   "cell_type": "code",
   "execution_count": 20,
   "metadata": {},
   "outputs": [],
   "source": [
    "model = Sequential(\n",
    "[\n",
    "    # first set of CONV => RELU => Pool layers\n",
    "    Conv2D(32,(5,5),padding = 'same',input_shape = (28,28,1),activation='relu'),\n",
    "    MaxPooling2D(pool_size = (2,2)),\n",
    "\n",
    "    # second set of CONV => RELU => POOL layers\n",
    "    Conv2D(32,(3,3),padding = 'same',activation='relu'),\n",
    "    MaxPooling2D(pool_size = (2,2)),\n",
    "\n",
    "    # first set of FC => RELU layers\n",
    "    Flatten(),\n",
    "    Dense(64,activation='relu'),\n",
    "    Dropout(0.5),\n",
    "\n",
    "    # second set of FC => RELU layers\n",
    "    Dense(64,activation='relu'),\n",
    "    Dropout(0.5),\n",
    "\n",
    "    # softmax classifier\n",
    "    Dense(10,activation='softmax')\n",
    "])\n",
    "        \n",
    "model.compile(loss='categorical_crossentropy', optimizer='adam', metrics=['accuracy'])\n"
   ]
  },
  {
   "cell_type": "code",
   "execution_count": 21,
   "metadata": {},
   "outputs": [
    {
     "name": "stdout",
     "output_type": "stream",
     "text": [
      "Model: \"sequential_1\"\n",
      "_________________________________________________________________\n",
      " Layer (type)                Output Shape              Param #   \n",
      "=================================================================\n",
      " conv2d_2 (Conv2D)           (None, 28, 28, 32)        832       \n",
      "                                                                 \n",
      " max_pooling2d_2 (MaxPooling  (None, 14, 14, 32)       0         \n",
      " 2D)                                                             \n",
      "                                                                 \n",
      " conv2d_3 (Conv2D)           (None, 14, 14, 32)        9248      \n",
      "                                                                 \n",
      " max_pooling2d_3 (MaxPooling  (None, 7, 7, 32)         0         \n",
      " 2D)                                                             \n",
      "                                                                 \n",
      " flatten_1 (Flatten)         (None, 1568)              0         \n",
      "                                                                 \n",
      " dense_3 (Dense)             (None, 64)                100416    \n",
      "                                                                 \n",
      " dropout_1 (Dropout)         (None, 64)                0         \n",
      "                                                                 \n",
      " dense_4 (Dense)             (None, 64)                4160      \n",
      "                                                                 \n",
      " dropout_2 (Dropout)         (None, 64)                0         \n",
      "                                                                 \n",
      " dense_5 (Dense)             (None, 10)                650       \n",
      "                                                                 \n",
      "=================================================================\n",
      "Total params: 115,306\n",
      "Trainable params: 115,306\n",
      "Non-trainable params: 0\n",
      "_________________________________________________________________\n"
     ]
    }
   ],
   "source": [
    "model.summary()"
   ]
  },
  {
   "cell_type": "code",
   "execution_count": 22,
   "metadata": {},
   "outputs": [
    {
     "name": "stdout",
     "output_type": "stream",
     "text": [
      "Epoch 1/20\n",
      "222/222 [==============================] - 15s 56ms/step - loss: 1.6212 - accuracy: 0.4137 - val_loss: 0.2717 - val_accuracy: 0.9473\n",
      "Epoch 2/20\n",
      "222/222 [==============================] - 12s 53ms/step - loss: 0.6068 - accuracy: 0.7952 - val_loss: 0.1196 - val_accuracy: 0.9614\n",
      "Epoch 3/20\n",
      "222/222 [==============================] - 12s 53ms/step - loss: 0.4092 - accuracy: 0.8592 - val_loss: 0.0868 - val_accuracy: 0.9775\n",
      "Epoch 4/20\n",
      "222/222 [==============================] - 12s 55ms/step - loss: 0.3213 - accuracy: 0.8908 - val_loss: 0.0644 - val_accuracy: 0.9834\n",
      "Epoch 5/20\n",
      "222/222 [==============================] - 12s 55ms/step - loss: 0.2657 - accuracy: 0.9079 - val_loss: 0.0542 - val_accuracy: 0.9878\n",
      "Epoch 6/20\n",
      "222/222 [==============================] - 15s 67ms/step - loss: 0.2352 - accuracy: 0.9172 - val_loss: 0.0450 - val_accuracy: 0.9873\n",
      "Epoch 7/20\n",
      "222/222 [==============================] - 13s 59ms/step - loss: 0.2100 - accuracy: 0.9291 - val_loss: 0.0539 - val_accuracy: 0.9858\n",
      "Epoch 8/20\n",
      "222/222 [==============================] - 11s 51ms/step - loss: 0.1931 - accuracy: 0.9324 - val_loss: 0.0362 - val_accuracy: 0.9902\n",
      "Epoch 9/20\n",
      "222/222 [==============================] - 13s 59ms/step - loss: 0.1901 - accuracy: 0.9340 - val_loss: 0.0410 - val_accuracy: 0.9878\n",
      "Epoch 10/20\n",
      "222/222 [==============================] - 13s 57ms/step - loss: 0.1574 - accuracy: 0.9445 - val_loss: 0.0388 - val_accuracy: 0.9873\n",
      "Epoch 11/20\n",
      "222/222 [==============================] - 11s 49ms/step - loss: 0.1600 - accuracy: 0.9421 - val_loss: 0.0322 - val_accuracy: 0.9897\n",
      "Epoch 12/20\n",
      "222/222 [==============================] - 11s 48ms/step - loss: 0.1452 - accuracy: 0.9462 - val_loss: 0.0311 - val_accuracy: 0.9893\n",
      "Epoch 13/20\n",
      "222/222 [==============================] - 11s 49ms/step - loss: 0.1483 - accuracy: 0.9502 - val_loss: 0.0257 - val_accuracy: 0.9927\n",
      "Epoch 14/20\n",
      "222/222 [==============================] - 11s 47ms/step - loss: 0.1280 - accuracy: 0.9509 - val_loss: 0.0285 - val_accuracy: 0.9937\n",
      "Epoch 15/20\n",
      "222/222 [==============================] - 10s 46ms/step - loss: 0.1290 - accuracy: 0.9499 - val_loss: 0.0260 - val_accuracy: 0.9912\n",
      "Epoch 16/20\n",
      "222/222 [==============================] - 11s 50ms/step - loss: 0.1243 - accuracy: 0.9547 - val_loss: 0.0252 - val_accuracy: 0.9922\n",
      "Epoch 17/20\n",
      "222/222 [==============================] - 11s 47ms/step - loss: 0.1260 - accuracy: 0.9544 - val_loss: 0.0305 - val_accuracy: 0.9907\n",
      "Epoch 18/20\n",
      "222/222 [==============================] - 12s 53ms/step - loss: 0.1234 - accuracy: 0.9573 - val_loss: 0.0234 - val_accuracy: 0.9946\n",
      "Epoch 19/20\n",
      "222/222 [==============================] - 11s 48ms/step - loss: 0.1082 - accuracy: 0.9597 - val_loss: 0.0216 - val_accuracy: 0.9932\n",
      "Epoch 20/20\n",
      "222/222 [==============================] - 11s 51ms/step - loss: 0.1058 - accuracy: 0.9631 - val_loss: 0.0169 - val_accuracy: 0.9946\n"
     ]
    }
   ],
   "source": [
    "logdir = 'logs'\n",
    "tensorboard_callback = tf.keras.callbacks.TensorBoard(log_dir=logdir)\n",
    "hist = model.fit(train,epochs=20,validation_data=val,callbacks=[tensorboard_callback])"
   ]
  },
  {
   "cell_type": "code",
   "execution_count": 23,
   "metadata": {},
   "outputs": [
    {
     "data": {
      "image/png": "[encoded data removed]",
      "text/plain": [
       "<Figure size 432x288 with 1 Axes>"
      ]
     },
     "metadata": {
      "needs_background": "light"
     },
     "output_type": "display_data"
    }
   ],
   "source": [
    "fig = plt.figure()\n",
    "plt.plot(hist.history['loss'],color= 'teal',label = 'loss')\n",
    "plt.plot(hist.history['val_loss'],color = 'orange',label = 'val_loss')\n",
    "fig.suptitle('Loss', fontsize = 20)\n",
    "plt.legend(loc = 'upper left')\n",
    "plt.show()"
   ]
  },
  {
   "cell_type": "code",
   "execution_count": 24,
   "metadata": {},
   "outputs": [
    {
     "data": {
      "image/png": "[encoded data removed]",
      "text/plain": [
       "<Figure size 432x288 with 1 Axes>"
      ]
     },
     "metadata": {
      "needs_background": "light"
     },
     "output_type": "display_data"
    }
   ],
   "source": [
    "fig = plt.figure()\n",
    "plt.plot(hist.history['accuracy'],color = 'teal',label = 'accuracy')\n",
    "plt.plot(hist.history['val_accuracy'],color = 'orange',label = 'val_accuracy')\n",
    "fig.suptitle('Accuracy', fontsize = 20)\n",
    "plt.legend(loc = 'upper left')\n",
    "plt.show()"
   ]
  },
  {
   "cell_type": "code",
   "execution_count": null,
   "metadata": {},
   "outputs": [],
   "source": []
  }
 ],
 "metadata": {
  "kernelspec": {
   "display_name": "Python 3.10.0 64-bit",
   "language": "python",
   "name": "python3"
  },
  "language_info": {
   "codemirror_mode": {
    "name": "ipython",
    "version": 3
   },
   "file_extension": ".py",
   "mimetype": "text/x-python",
   "name": "python",
   "nbconvert_exporter": "python",
   "pygments_lexer": "ipython3",
   "version": "3.10.0"
  },
  "orig_nbformat": 4,
  "vscode": {
   "interpreter": {
    "hash": "27f6fea6f47ae512550f0b8facdbd035a93e1dd89633f7bf2dd00a2502c71d0d"
   }
  }
 },
 "nbformat": 4,
 "nbformat_minor": 2
}
