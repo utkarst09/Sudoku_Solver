{
 "cells": [
  {
   "cell_type": "markdown",
   "metadata": {},
   "source": [
    "**IMPORTING LIBRARIES**"
   ]
  },
  {
   "cell_type": "code",
   "execution_count": 43,
   "metadata": {},
   "outputs": [],
   "source": [
    "import os \n",
    "import cv2\n",
    "import numpy as np\n",
    "import tensorflow as tf\n",
    "from matplotlib import pyplot as plt\n",
    "from keras.models import Sequential\n",
    "from keras.layers import Conv2D, MaxPooling2D, Dense, Flatten,Dropout\n",
    "from keras.metrics import Precision, Recall, CategoricalAccuracy\n",
    "from keras.models import load_model"
   ]
  },
  {
   "cell_type": "code",
   "execution_count": 44,
   "metadata": {},
   "outputs": [],
   "source": [
    "# Avoiding OOM errors by setting GPU Memory Consumption Growth\n",
    "gpus = tf.config.experimental.list_physical_devices('GPU')\n",
    "for gpu in gpus:\n",
    "    tf.config.experimental.set_memory_growth(gpu,True)"
   ]
  },
  {
   "cell_type": "markdown",
   "metadata": {},
   "source": [
    "**LOADING DATA**"
   ]
  },
  {
   "cell_type": "code",
   "execution_count": 45,
   "metadata": {},
   "outputs": [
    {
     "name": "stdout",
     "output_type": "stream",
     "text": [
      "(128, 128, 3)\n"
     ]
    },
    {
     "data": {
      "image/png": "[encoded data removed]",
      "text/plain": [
       "<Figure size 432x288 with 1 Axes>"
      ]
     },
     "metadata": {
      "needs_background": "light"
     },
     "output_type": "display_data"
    }
   ],
   "source": [
    "data_dir = 'Data'\n",
    "img = cv2.imread(os.path.join(data_dir,'1','img002-00001.png'))\n",
    "# print(img.shape)\n",
    "plt.imshow(cv2.cvtColor(img,cv2.COLOR_BGR2GRAY))\n",
    "plt.show()"
   ]
  },
  {
   "cell_type": "markdown",
   "metadata": {},
   "source": [
    "**CREATING DATASET**"
   ]
  },
  {
   "cell_type": "code",
   "execution_count": 46,
   "metadata": {},
   "outputs": [
    {
     "name": "stdout",
     "output_type": "stream",
     "text": [
      "Found 10160 files belonging to 10 classes.\n"
     ]
    }
   ],
   "source": [
    "data = tf.keras.utils.image_dataset_from_directory(data_dir,color_mode='grayscale',image_size=(32,32),label_mode='categorical')\n",
    "# label_mode = 'Categorical'.....will perform One-Hot encoding"
   ]
  },
  {
   "cell_type": "code",
   "execution_count": 47,
   "metadata": {},
   "outputs": [
    {
     "data": {
      "text/plain": [
       "(32, 32, 1)"
      ]
     },
     "execution_count": 47,
     "metadata": {},
     "output_type": "execute_result"
    }
   ],
   "source": [
    "data_iterator = data.as_numpy_iterator()\n",
    "batch = data_iterator.next()\n",
    "batch[0][0].shape"
   ]
  },
  {
   "cell_type": "code",
   "execution_count": 65,
   "metadata": {},
   "outputs": [
    {
     "data": {
      "text/plain": [
       "(16, 10)"
      ]
     },
     "execution_count": 65,
     "metadata": {},
     "output_type": "execute_result"
    }
   ],
   "source": [
    "batch[1].shape"
   ]
  },
  {
   "cell_type": "code",
   "execution_count": 61,
   "metadata": {},
   "outputs": [
    {
     "data": {
      "image/png": "[encoded data removed]",
      "text/plain": [
       "<Figure size 1440x1440 with 4 Axes>"
      ]
     },
     "metadata": {
      "needs_background": "light"
     },
     "output_type": "display_data"
    }
   ],
   "source": [
    "fig,ax = plt.subplots(ncols=4,figsize= (20,20))\n",
    "for idx,img in enumerate(batch[0][:4]):\n",
    "    ax[idx].imshow(img.astype(int))\n",
    "    ax[idx].title.set_text(batch[1][idx])"
   ]
  },
  {
   "cell_type": "markdown",
   "metadata": {},
   "source": [
    "**NORMALIZING THE DATA**"
   ]
  },
  {
   "cell_type": "code",
   "execution_count": 50,
   "metadata": {},
   "outputs": [],
   "source": [
    "data = data.map(lambda x,y:(x/255,y))"
   ]
  },
  {
   "cell_type": "markdown",
   "metadata": {},
   "source": [
    "**SPLITING DATASET**"
   ]
  },
  {
   "cell_type": "code",
   "execution_count": 51,
   "metadata": {},
   "outputs": [],
   "source": [
    "train_size = int(len(data)*0.7)\n",
    "val_size  =int(len(data)*0.2)+1\n",
    "test_size = int(len(data)*0.1)+1\n",
    "\n",
    "train = data.take(train_size)\n",
    "val = data.skip(train_size).take(val_size)\n",
    "test = data.skip(train_size+val_size).take(test_size)\n"
   ]
  },
  {
   "cell_type": "markdown",
   "metadata": {},
   "source": [
    "**BUILDING MODEL**"
   ]
  },
  {
   "cell_type": "code",
   "execution_count": 52,
   "metadata": {},
   "outputs": [],
   "source": [
    "model = Sequential(\n",
    "[\n",
    "    # first set of CONV => RELU => Pool layers\n",
    "    Conv2D(32,(5,5),padding = 'same',input_shape = (32,32,1),activation='relu'),\n",
    "    MaxPooling2D(pool_size = (2,2)),\n",
    "\n",
    "    # second set of CONV => RELU => POOL layers\n",
    "    Conv2D(32,(3,3),padding = 'same',activation='relu'),\n",
    "    MaxPooling2D(pool_size = (2,2)),\n",
    "\n",
    "    # first set of FC => RELU layers\n",
    "    Flatten(),\n",
    "    Dense(64,activation='relu'),\n",
    "    Dropout(0.5),\n",
    "\n",
    "    # second set of FC => RELU layers\n",
    "    Dense(64,activation='relu'),\n",
    "    Dropout(0.5),\n",
    "\n",
    "    # softmax classifier\n",
    "    Dense(10,activation='softmax')\n",
    "])\n",
    "\n",
    "# compiling the model\n",
    "model.compile(loss='categorical_crossentropy', optimizer='adam', metrics=['accuracy'])\n"
   ]
  },
  {
   "cell_type": "code",
   "execution_count": 53,
   "metadata": {},
   "outputs": [
    {
     "name": "stdout",
     "output_type": "stream",
     "text": [
      "Model: \"sequential_3\"\n",
      "_________________________________________________________________\n",
      " Layer (type)                Output Shape              Param #   \n",
      "=================================================================\n",
      " conv2d_6 (Conv2D)           (None, 32, 32, 32)        832       \n",
      "                                                                 \n",
      " max_pooling2d_6 (MaxPooling  (None, 16, 16, 32)       0         \n",
      " 2D)                                                             \n",
      "                                                                 \n",
      " conv2d_7 (Conv2D)           (None, 16, 16, 32)        9248      \n",
      "                                                                 \n",
      " max_pooling2d_7 (MaxPooling  (None, 8, 8, 32)         0         \n",
      " 2D)                                                             \n",
      "                                                                 \n",
      " flatten_3 (Flatten)         (None, 2048)              0         \n",
      "                                                                 \n",
      " dense_9 (Dense)             (None, 64)                131136    \n",
      "                                                                 \n",
      " dropout_5 (Dropout)         (None, 64)                0         \n",
      "                                                                 \n",
      " dense_10 (Dense)            (None, 64)                4160      \n",
      "                                                                 \n",
      " dropout_6 (Dropout)         (None, 64)                0         \n",
      "                                                                 \n",
      " dense_11 (Dense)            (None, 10)                650       \n",
      "                                                                 \n",
      "=================================================================\n",
      "Total params: 146,026\n",
      "Trainable params: 146,026\n",
      "Non-trainable params: 0\n",
      "_________________________________________________________________\n"
     ]
    }
   ],
   "source": [
    "model.summary()"
   ]
  },
  {
   "cell_type": "markdown",
   "metadata": {},
   "source": [
    "**TRAINING MODEL**"
   ]
  },
  {
   "cell_type": "code",
   "execution_count": 54,
   "metadata": {},
   "outputs": [
    {
     "name": "stdout",
     "output_type": "stream",
     "text": [
      "Epoch 1/20\n",
      "222/222 [==============================] - 18s 76ms/step - loss: 1.6507 - accuracy: 0.3975 - val_loss: 0.3863 - val_accuracy: 0.9424\n",
      "Epoch 2/20\n",
      "222/222 [==============================] - 6s 25ms/step - loss: 0.7212 - accuracy: 0.7455 - val_loss: 0.1371 - val_accuracy: 0.9648\n",
      "Epoch 3/20\n",
      "222/222 [==============================] - 6s 27ms/step - loss: 0.5085 - accuracy: 0.8226 - val_loss: 0.1000 - val_accuracy: 0.9780\n",
      "Epoch 4/20\n",
      "222/222 [==============================] - 5s 22ms/step - loss: 0.4117 - accuracy: 0.8564 - val_loss: 0.0773 - val_accuracy: 0.9790\n",
      "Epoch 5/20\n",
      "222/222 [==============================] - 4s 19ms/step - loss: 0.3501 - accuracy: 0.8758 - val_loss: 0.0575 - val_accuracy: 0.9839\n",
      "Epoch 6/20\n",
      "222/222 [==============================] - 4s 18ms/step - loss: 0.3275 - accuracy: 0.8812 - val_loss: 0.0464 - val_accuracy: 0.9888\n",
      "Epoch 7/20\n",
      "222/222 [==============================] - 4s 18ms/step - loss: 0.3007 - accuracy: 0.8901 - val_loss: 0.0339 - val_accuracy: 0.9893\n",
      "Epoch 8/20\n",
      "222/222 [==============================] - 4s 18ms/step - loss: 0.2856 - accuracy: 0.8957 - val_loss: 0.0381 - val_accuracy: 0.9897\n",
      "Epoch 9/20\n",
      "222/222 [==============================] - 4s 18ms/step - loss: 0.2661 - accuracy: 0.9051 - val_loss: 0.0344 - val_accuracy: 0.9927\n",
      "Epoch 10/20\n",
      "222/222 [==============================] - 4s 18ms/step - loss: 0.2493 - accuracy: 0.9119 - val_loss: 0.0319 - val_accuracy: 0.9907\n",
      "Epoch 11/20\n",
      "222/222 [==============================] - 4s 18ms/step - loss: 0.2367 - accuracy: 0.9165 - val_loss: 0.0268 - val_accuracy: 0.9927\n",
      "Epoch 12/20\n",
      "222/222 [==============================] - 4s 18ms/step - loss: 0.2357 - accuracy: 0.9133 - val_loss: 0.0212 - val_accuracy: 0.9941\n",
      "Epoch 13/20\n",
      "222/222 [==============================] - 4s 18ms/step - loss: 0.2237 - accuracy: 0.9215 - val_loss: 0.0257 - val_accuracy: 0.9941\n",
      "Epoch 14/20\n",
      "222/222 [==============================] - 4s 18ms/step - loss: 0.2320 - accuracy: 0.9188 - val_loss: 0.0196 - val_accuracy: 0.9946\n",
      "Epoch 15/20\n",
      "222/222 [==============================] - 4s 18ms/step - loss: 0.2111 - accuracy: 0.9254 - val_loss: 0.0233 - val_accuracy: 0.9927\n",
      "Epoch 16/20\n",
      "222/222 [==============================] - 4s 18ms/step - loss: 0.2083 - accuracy: 0.9268 - val_loss: 0.0227 - val_accuracy: 0.9917\n",
      "Epoch 17/20\n",
      "222/222 [==============================] - 4s 18ms/step - loss: 0.1951 - accuracy: 0.9289 - val_loss: 0.0198 - val_accuracy: 0.9956\n",
      "Epoch 18/20\n",
      "222/222 [==============================] - 5s 21ms/step - loss: 0.1801 - accuracy: 0.9344 - val_loss: 0.0147 - val_accuracy: 0.9961\n",
      "Epoch 19/20\n",
      "222/222 [==============================] - 4s 19ms/step - loss: 0.1859 - accuracy: 0.9354 - val_loss: 0.0160 - val_accuracy: 0.9951\n",
      "Epoch 20/20\n",
      "222/222 [==============================] - 5s 20ms/step - loss: 0.1825 - accuracy: 0.9317 - val_loss: 0.0172 - val_accuracy: 0.9961\n"
     ]
    }
   ],
   "source": [
    "logdir = 'logs'\n",
    "tensorboard_callback = tf.keras.callbacks.TensorBoard(log_dir=logdir)\n",
    "hist = model.fit(train,epochs=20,validation_data=val,callbacks=[tensorboard_callback])"
   ]
  },
  {
   "cell_type": "markdown",
   "metadata": {},
   "source": [
    "**PLOTING MODEL PERFORMANCE**"
   ]
  },
  {
   "cell_type": "code",
   "execution_count": 55,
   "metadata": {},
   "outputs": [
    {
     "data": {
      "image/png": "[encoded data removed]",
      "text/plain": [
       "<Figure size 432x288 with 1 Axes>"
      ]
     },
     "metadata": {
      "needs_background": "light"
     },
     "output_type": "display_data"
    }
   ],
   "source": [
    "# LOSS\n",
    "fig = plt.figure()\n",
    "plt.plot(hist.history['loss'],color= 'teal',label = 'loss')\n",
    "plt.plot(hist.history['val_loss'],color = 'orange',label = 'val_loss')\n",
    "fig.suptitle('Loss', fontsize = 20)\n",
    "plt.legend(loc = 'upper left')\n",
    "plt.show()"
   ]
  },
  {
   "cell_type": "code",
   "execution_count": 56,
   "metadata": {},
   "outputs": [
    {
     "data": {
      "image/png": "[encoded data removed]",
      "text/plain": [
       "<Figure size 432x288 with 1 Axes>"
      ]
     },
     "metadata": {
      "needs_background": "light"
     },
     "output_type": "display_data"
    }
   ],
   "source": [
    "# ACCURACY\n",
    "fig = plt.figure()\n",
    "plt.plot(hist.history['accuracy'],color = 'teal',label = 'accuracy')\n",
    "plt.plot(hist.history['val_accuracy'],color = 'orange',label = 'val_accuracy')\n",
    "fig.suptitle('Accuracy', fontsize = 20)\n",
    "plt.legend(loc = 'upper left')\n",
    "plt.show()"
   ]
  },
  {
   "cell_type": "markdown",
   "metadata": {},
   "source": [
    "**EVALUATING MODEL ON TEST SET**"
   ]
  },
  {
   "cell_type": "code",
   "execution_count": 57,
   "metadata": {},
   "outputs": [],
   "source": [
    "pre = Precision()\n",
    "re = Recall()\n",
    "acc = CategoricalAccuracy()"
   ]
  },
  {
   "cell_type": "code",
   "execution_count": 58,
   "metadata": {},
   "outputs": [],
   "source": [
    "for batch in test.as_numpy_iterator():\n",
    "    X,y = batch\n",
    "    yhat = model.predict(X)\n",
    "    pre.update_state(y,yhat)\n",
    "    re.update_state(y,yhat)\n",
    "    acc.update_state(y,yhat)"
   ]
  },
  {
   "cell_type": "code",
   "execution_count": 59,
   "metadata": {},
   "outputs": [
    {
     "name": "stdout",
     "output_type": "stream",
     "text": [
      "Precision:0.9940239191055298, Recall:0.9900793433189392, Accuracy:0.9920634627342224\n"
     ]
    }
   ],
   "source": [
    "print(f'Precision:{pre.result().numpy()}, Recall:{re.result().numpy()}, Accuracy:{acc.result().numpy()}')"
   ]
  },
  {
   "cell_type": "markdown",
   "metadata": {},
   "source": [
    "**SAVING MODEL**"
   ]
  },
  {
   "cell_type": "code",
   "execution_count": 60,
   "metadata": {},
   "outputs": [],
   "source": [
    "model.save(os.path.join('Model','OCR.h5'))"
   ]
  }
 ],
 "metadata": {
  "kernelspec": {
   "display_name": "Python 3.10.0 64-bit",
   "language": "python",
   "name": "python3"
  },
  "language_info": {
   "codemirror_mode": {
    "name": "ipython",
    "version": 3
   },
   "file_extension": ".py",
   "mimetype": "text/x-python",
   "name": "python",
   "nbconvert_exporter": "python",
   "pygments_lexer": "ipython3",
   "version": "3.10.0"
  },
  "orig_nbformat": 4,
  "vscode": {
   "interpreter": {
    "hash": "27f6fea6f47ae512550f0b8facdbd035a93e1dd89633f7bf2dd00a2502c71d0d"
   }
  }
 },
 "nbformat": 4,
 "nbformat_minor": 2
}
