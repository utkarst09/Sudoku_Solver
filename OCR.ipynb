{
 "cells": [
  {
   "cell_type": "code",
   "execution_count": 40,
   "metadata": {},
   "outputs": [],
   "source": [
    "import os \n",
    "import cv2\n",
    "import numpy as np\n",
    "import tensorflow as tf\n",
    "from matplotlib import pyplot as plt\n",
    "from keras.models import Sequential\n",
    "from keras.layers import Conv2D, MaxPooling2D, Dense, Flatten,Dropout\n",
    "from keras.metrics import Precision, Recall, CategoricalAccuracy\n",
    "from keras.models import load_model"
   ]
  },
  {
   "cell_type": "code",
   "execution_count": 2,
   "metadata": {},
   "outputs": [],
   "source": [
    "# Avoiding OOM errors by setting GPU Memory Consumption Growth\n",
    "gpus = tf.config.experimental.list_physical_devices('GPU')\n",
    "for gpu in gpus:\n",
    "    tf.config.experimental.set_memory_growth(gpu,True)"
   ]
  },
  {
   "cell_type": "code",
   "execution_count": 4,
   "metadata": {},
   "outputs": [
    {
     "data": {
      "image/png": "[encoded data removed]",
      "text/plain": [
       "<Figure size 432x288 with 1 Axes>"
      ]
     },
     "metadata": {
      "needs_background": "light"
     },
     "output_type": "display_data"
    }
   ],
   "source": [
    "# Loading Data\n",
    "data_dir = 'Data'\n",
    "img = cv2.imread(os.path.join(data_dir,'1','img002-00001.png'))\n",
    "plt.imshow(cv2.cvtColor(img,cv2.COLOR_BGR2GRAY))\n",
    "plt.show()"
   ]
  },
  {
   "cell_type": "code",
   "execution_count": 6,
   "metadata": {},
   "outputs": [
    {
     "name": "stdout",
     "output_type": "stream",
     "text": [
      "Found 10160 files belonging to 10 classes.\n"
     ]
    }
   ],
   "source": [
    "# Creating Dataset\n",
    "data = tf.keras.utils.image_dataset_from_directory(data_dir,color_mode='grayscale',image_size=(28,28),label_mode='categorical')"
   ]
  },
  {
   "cell_type": "code",
   "execution_count": 7,
   "metadata": {},
   "outputs": [
    {
     "data": {
      "text/plain": [
       "(28, 28, 1)"
      ]
     },
     "execution_count": 7,
     "metadata": {},
     "output_type": "execute_result"
    }
   ],
   "source": [
    "data_iterator = data.as_numpy_iterator()\n",
    "batch = data_iterator.next()\n",
    "batch[0][0].shape"
   ]
  },
  {
   "cell_type": "code",
   "execution_count": 8,
   "metadata": {},
   "outputs": [
    {
     "data": {
      "text/plain": [
       "array([[1., 0., 0., 0., 0., 0., 0., 0., 0., 0.],\n",
       "       [0., 0., 0., 0., 0., 0., 0., 1., 0., 0.],\n",
       "       [0., 0., 0., 0., 0., 0., 1., 0., 0., 0.],\n",
       "       [0., 0., 0., 0., 0., 0., 0., 0., 1., 0.],\n",
       "       [0., 0., 1., 0., 0., 0., 0., 0., 0., 0.],\n",
       "       [0., 0., 0., 0., 1., 0., 0., 0., 0., 0.],\n",
       "       [0., 0., 0., 0., 0., 1., 0., 0., 0., 0.],\n",
       "       [0., 1., 0., 0., 0., 0., 0., 0., 0., 0.],\n",
       "       [0., 1., 0., 0., 0., 0., 0., 0., 0., 0.],\n",
       "       [0., 0., 0., 0., 0., 1., 0., 0., 0., 0.],\n",
       "       [0., 0., 0., 0., 0., 1., 0., 0., 0., 0.],\n",
       "       [0., 0., 0., 0., 0., 0., 0., 0., 1., 0.],\n",
       "       [0., 0., 0., 0., 0., 0., 0., 0., 1., 0.],\n",
       "       [1., 0., 0., 0., 0., 0., 0., 0., 0., 0.],\n",
       "       [0., 0., 0., 0., 1., 0., 0., 0., 0., 0.],\n",
       "       [0., 0., 0., 0., 0., 0., 0., 0., 0., 1.],\n",
       "       [0., 0., 0., 0., 1., 0., 0., 0., 0., 0.],\n",
       "       [0., 0., 0., 0., 1., 0., 0., 0., 0., 0.],\n",
       "       [0., 0., 0., 0., 0., 1., 0., 0., 0., 0.],\n",
       "       [1., 0., 0., 0., 0., 0., 0., 0., 0., 0.],\n",
       "       [1., 0., 0., 0., 0., 0., 0., 0., 0., 0.],\n",
       "       [0., 0., 0., 1., 0., 0., 0., 0., 0., 0.],\n",
       "       [0., 0., 0., 0., 0., 0., 0., 1., 0., 0.],\n",
       "       [0., 0., 1., 0., 0., 0., 0., 0., 0., 0.],\n",
       "       [0., 0., 0., 0., 1., 0., 0., 0., 0., 0.],\n",
       "       [0., 0., 0., 0., 0., 0., 0., 0., 1., 0.],\n",
       "       [0., 1., 0., 0., 0., 0., 0., 0., 0., 0.],\n",
       "       [0., 0., 0., 0., 0., 0., 0., 1., 0., 0.],\n",
       "       [0., 0., 0., 1., 0., 0., 0., 0., 0., 0.],\n",
       "       [0., 0., 0., 0., 0., 1., 0., 0., 0., 0.],\n",
       "       [0., 0., 1., 0., 0., 0., 0., 0., 0., 0.],\n",
       "       [0., 0., 0., 0., 0., 1., 0., 0., 0., 0.]], dtype=float32)"
      ]
     },
     "execution_count": 8,
     "metadata": {},
     "output_type": "execute_result"
    }
   ],
   "source": [
    "batch[1]"
   ]
  },
  {
   "cell_type": "code",
   "execution_count": 10,
   "metadata": {},
   "outputs": [
    {
     "data": {
      "image/png": "[encoded data removed]",
      "text/plain": [
       "<Figure size 1440x1440 with 4 Axes>"
      ]
     },
     "metadata": {
      "needs_background": "light"
     },
     "output_type": "display_data"
    }
   ],
   "source": [
    "fig,ax = plt.subplots(ncols=4,figsize= (20,20))\n",
    "for idx,img in enumerate(batch[0][:4]):\n",
    "    ax[idx].imshow(img.astype(int))\n",
    "    ax[idx].title.set_text(batch[1][idx])"
   ]
  },
  {
   "cell_type": "code",
   "execution_count": 11,
   "metadata": {},
   "outputs": [],
   "source": [
    "# Normalizing data\n",
    "data = data.map(lambda x,y:(x/255,y))"
   ]
  },
  {
   "cell_type": "code",
   "execution_count": 30,
   "metadata": {},
   "outputs": [],
   "source": [
    "train_size = int(len(data)*0.7)\n",
    "val_size  =int(len(data)*0.2)+1\n",
    "test_size = int(len(data)*0.1)+1\n",
    "\n",
    "train = data.take(train_size)\n",
    "val = data.skip(train_size).take(val_size)\n",
    "test = data.skip(train_size+val_size).take(test_size)\n"
   ]
  },
  {
   "cell_type": "code",
   "execution_count": 32,
   "metadata": {},
   "outputs": [],
   "source": [
    "model = Sequential(\n",
    "[\n",
    "    # first set of CONV => RELU => Pool layers\n",
    "    Conv2D(32,(5,5),padding = 'same',input_shape = (28,28,1),activation='relu'),\n",
    "    MaxPooling2D(pool_size = (2,2)),\n",
    "\n",
    "    # second set of CONV => RELU => POOL layers\n",
    "    Conv2D(32,(3,3),padding = 'same',activation='relu'),\n",
    "    MaxPooling2D(pool_size = (2,2)),\n",
    "\n",
    "    # first set of FC => RELU layers\n",
    "    Flatten(),\n",
    "    Dense(64,activation='relu'),\n",
    "    Dropout(0.5),\n",
    "\n",
    "    # second set of FC => RELU layers\n",
    "    Dense(64,activation='relu'),\n",
    "    Dropout(0.5),\n",
    "\n",
    "    # softmax classifier\n",
    "    Dense(10,activation='softmax')\n",
    "])\n",
    "        \n",
    "model.compile(loss='categorical_crossentropy', optimizer='adam', metrics=['accuracy'])\n"
   ]
  },
  {
   "cell_type": "code",
   "execution_count": 21,
   "metadata": {},
   "outputs": [
    {
     "name": "stdout",
     "output_type": "stream",
     "text": [
      "Model: \"sequential_1\"\n",
      "_________________________________________________________________\n",
      " Layer (type)                Output Shape              Param #   \n",
      "=================================================================\n",
      " conv2d_2 (Conv2D)           (None, 28, 28, 32)        832       \n",
      "                                                                 \n",
      " max_pooling2d_2 (MaxPooling  (None, 14, 14, 32)       0         \n",
      " 2D)                                                             \n",
      "                                                                 \n",
      " conv2d_3 (Conv2D)           (None, 14, 14, 32)        9248      \n",
      "                                                                 \n",
      " max_pooling2d_3 (MaxPooling  (None, 7, 7, 32)         0         \n",
      " 2D)                                                             \n",
      "                                                                 \n",
      " flatten_1 (Flatten)         (None, 1568)              0         \n",
      "                                                                 \n",
      " dense_3 (Dense)             (None, 64)                100416    \n",
      "                                                                 \n",
      " dropout_1 (Dropout)         (None, 64)                0         \n",
      "                                                                 \n",
      " dense_4 (Dense)             (None, 64)                4160      \n",
      "                                                                 \n",
      " dropout_2 (Dropout)         (None, 64)                0         \n",
      "                                                                 \n",
      " dense_5 (Dense)             (None, 10)                650       \n",
      "                                                                 \n",
      "=================================================================\n",
      "Total params: 115,306\n",
      "Trainable params: 115,306\n",
      "Non-trainable params: 0\n",
      "_________________________________________________________________\n"
     ]
    }
   ],
   "source": [
    "model.summary()"
   ]
  },
  {
   "cell_type": "code",
   "execution_count": 33,
   "metadata": {},
   "outputs": [
    {
     "name": "stdout",
     "output_type": "stream",
     "text": [
      "Epoch 1/20\n",
      "222/222 [==============================] - 16s 63ms/step - loss: 1.5266 - accuracy: 0.4462 - val_loss: 0.3229 - val_accuracy: 0.9375\n",
      "Epoch 2/20\n",
      "222/222 [==============================] - 15s 66ms/step - loss: 0.6983 - accuracy: 0.7515 - val_loss: 0.1254 - val_accuracy: 0.9722\n",
      "Epoch 3/20\n",
      "222/222 [==============================] - 13s 59ms/step - loss: 0.5359 - accuracy: 0.8102 - val_loss: 0.0961 - val_accuracy: 0.9756\n",
      "Epoch 4/20\n",
      "222/222 [==============================] - 12s 54ms/step - loss: 0.4342 - accuracy: 0.8470 - val_loss: 0.0716 - val_accuracy: 0.9819\n",
      "Epoch 5/20\n",
      "222/222 [==============================] - 12s 55ms/step - loss: 0.3818 - accuracy: 0.8685 - val_loss: 0.0685 - val_accuracy: 0.9800\n",
      "Epoch 6/20\n",
      "222/222 [==============================] - 13s 59ms/step - loss: 0.3438 - accuracy: 0.8805 - val_loss: 0.0593 - val_accuracy: 0.9844\n",
      "Epoch 7/20\n",
      "222/222 [==============================] - 13s 57ms/step - loss: 0.3239 - accuracy: 0.8858 - val_loss: 0.0481 - val_accuracy: 0.9897\n",
      "Epoch 8/20\n",
      "222/222 [==============================] - 13s 56ms/step - loss: 0.2980 - accuracy: 0.8948 - val_loss: 0.0561 - val_accuracy: 0.9834\n",
      "Epoch 9/20\n",
      "222/222 [==============================] - 13s 56ms/step - loss: 0.2835 - accuracy: 0.9039 - val_loss: 0.0445 - val_accuracy: 0.9878\n",
      "Epoch 10/20\n",
      "222/222 [==============================] - 13s 56ms/step - loss: 0.2771 - accuracy: 0.9048 - val_loss: 0.0378 - val_accuracy: 0.9893\n",
      "Epoch 11/20\n",
      "222/222 [==============================] - 12s 55ms/step - loss: 0.2658 - accuracy: 0.9084 - val_loss: 0.0401 - val_accuracy: 0.9873\n",
      "Epoch 12/20\n",
      "222/222 [==============================] - 13s 57ms/step - loss: 0.2572 - accuracy: 0.9115 - val_loss: 0.0320 - val_accuracy: 0.9917\n",
      "Epoch 13/20\n",
      "222/222 [==============================] - 14s 61ms/step - loss: 0.2392 - accuracy: 0.9171 - val_loss: 0.0349 - val_accuracy: 0.9883\n",
      "Epoch 14/20\n",
      "222/222 [==============================] - 14s 63ms/step - loss: 0.2338 - accuracy: 0.9146 - val_loss: 0.0320 - val_accuracy: 0.9888\n",
      "Epoch 15/20\n",
      "222/222 [==============================] - 14s 64ms/step - loss: 0.2360 - accuracy: 0.9157 - val_loss: 0.0325 - val_accuracy: 0.9888\n",
      "Epoch 16/20\n",
      "222/222 [==============================] - 13s 58ms/step - loss: 0.2176 - accuracy: 0.9184 - val_loss: 0.0340 - val_accuracy: 0.9897\n",
      "Epoch 17/20\n",
      "222/222 [==============================] - 13s 56ms/step - loss: 0.2197 - accuracy: 0.9169 - val_loss: 0.0394 - val_accuracy: 0.9888\n",
      "Epoch 18/20\n",
      "222/222 [==============================] - 12s 53ms/step - loss: 0.2105 - accuracy: 0.9224 - val_loss: 0.0345 - val_accuracy: 0.9902\n",
      "Epoch 19/20\n",
      "222/222 [==============================] - 13s 58ms/step - loss: 0.1965 - accuracy: 0.9271 - val_loss: 0.0336 - val_accuracy: 0.9912\n",
      "Epoch 20/20\n",
      "222/222 [==============================] - 12s 54ms/step - loss: 0.2081 - accuracy: 0.9222 - val_loss: 0.0316 - val_accuracy: 0.9912\n"
     ]
    }
   ],
   "source": [
    "logdir = 'logs'\n",
    "tensorboard_callback = tf.keras.callbacks.TensorBoard(log_dir=logdir)\n",
    "hist = model.fit(train,epochs=20,validation_data=val,callbacks=[tensorboard_callback])"
   ]
  },
  {
   "cell_type": "code",
   "execution_count": 34,
   "metadata": {},
   "outputs": [
    {
     "data": {
      "image/png": "[encoded data removed]",
      "text/plain": [
       "<Figure size 432x288 with 1 Axes>"
      ]
     },
     "metadata": {
      "needs_background": "light"
     },
     "output_type": "display_data"
    }
   ],
   "source": [
    "fig = plt.figure()\n",
    "plt.plot(hist.history['loss'],color= 'teal',label = 'loss')\n",
    "plt.plot(hist.history['val_loss'],color = 'orange',label = 'val_loss')\n",
    "fig.suptitle('Loss', fontsize = 20)\n",
    "plt.legend(loc = 'upper left')\n",
    "plt.show()"
   ]
  },
  {
   "cell_type": "code",
   "execution_count": 24,
   "metadata": {},
   "outputs": [
    {
     "data": {
      "image/png": "[encoded data removed]",
      "text/plain": [
       "<Figure size 432x288 with 1 Axes>"
      ]
     },
     "metadata": {
      "needs_background": "light"
     },
     "output_type": "display_data"
    }
   ],
   "source": [
    "fig = plt.figure()\n",
    "plt.plot(hist.history['accuracy'],color = 'teal',label = 'accuracy')\n",
    "plt.plot(hist.history['val_accuracy'],color = 'orange',label = 'val_accuracy')\n",
    "fig.suptitle('Accuracy', fontsize = 20)\n",
    "plt.legend(loc = 'upper left')\n",
    "plt.show()"
   ]
  },
  {
   "cell_type": "code",
   "execution_count": 36,
   "metadata": {},
   "outputs": [],
   "source": [
    "pre = Precision()\n",
    "re = Recall()\n",
    "acc = CategoricalAccuracy()"
   ]
  },
  {
   "cell_type": "code",
   "execution_count": 37,
   "metadata": {},
   "outputs": [],
   "source": [
    "for batch in test.as_numpy_iterator():\n",
    "    X,y = batch\n",
    "    yhat = model.predict(X)\n",
    "    pre.update_state(y,yhat)\n",
    "    re.update_state(y,yhat)\n",
    "    acc.update_state(y,yhat)"
   ]
  },
  {
   "cell_type": "code",
   "execution_count": 38,
   "metadata": {},
   "outputs": [
    {
     "name": "stdout",
     "output_type": "stream",
     "text": [
      "Precision:0.991008996963501, Recall:0.9841269850730896, Accuracy:0.9871031641960144\n"
     ]
    }
   ],
   "source": [
    "print(f'Precision:{pre.result().numpy()}, Recall:{re.result().numpy()}, Accuracy:{acc.result().numpy()}')"
   ]
  },
  {
   "cell_type": "code",
   "execution_count": 41,
   "metadata": {},
   "outputs": [],
   "source": [
    "model.save(os.path.join('Model','OCR.h5'))"
   ]
  },
  {
   "cell_type": "code",
   "execution_count": null,
   "metadata": {},
   "outputs": [],
   "source": []
  }
 ],
 "metadata": {
  "kernelspec": {
   "display_name": "Python 3.10.0 64-bit",
   "language": "python",
   "name": "python3"
  },
  "language_info": {
   "codemirror_mode": {
    "name": "ipython",
    "version": 3
   },
   "file_extension": ".py",
   "mimetype": "text/x-python",
   "name": "python",
   "nbconvert_exporter": "python",
   "pygments_lexer": "ipython3",
   "version": "3.10.0"
  },
  "orig_nbformat": 4,
  "vscode": {
   "interpreter": {
    "hash": "27f6fea6f47ae512550f0b8facdbd035a93e1dd89633f7bf2dd00a2502c71d0d"
   }
  }
 },
 "nbformat": 4,
 "nbformat_minor": 2
}
